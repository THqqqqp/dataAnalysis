{
 "cells": [
  {
   "cell_type": "markdown",
   "id": "7f5e93cd963bc7ce",
   "metadata": {
    "collapsed": false
   },
   "source": [
    "# numpy基础学习"
   ]
  },
  {
   "cell_type": "markdown",
   "id": "28184e7a493112af",
   "metadata": {
    "collapsed": false
   },
   "source": [
    "## 基础矩阵"
   ]
  },
  {
   "cell_type": "code",
   "execution_count": 28,
   "id": "initial_id",
   "metadata": {
    "ExecuteTime": {
     "end_time": "2024-09-08T00:52:27.815111Z",
     "start_time": "2024-09-08T00:52:27.811997Z"
    }
   },
   "outputs": [],
   "source": [
    "import numpy as np"
   ]
  },
  {
   "cell_type": "code",
   "execution_count": 29,
   "id": "902d03531aa5404f",
   "metadata": {
    "collapsed": false,
    "ExecuteTime": {
     "end_time": "2024-09-08T00:52:27.868894Z",
     "start_time": "2024-09-08T00:52:27.863413Z"
    }
   },
   "outputs": [
    {
     "data": {
      "text/plain": "array([[1, 2, 3],\n       [4, 5, 6],\n       [7, 8, 9]])"
     },
     "execution_count": 29,
     "metadata": {},
     "output_type": "execute_result"
    }
   ],
   "source": [
    "matrix = np.array([1, 2, 3, 4, 5])\n",
    "\n",
    "np.array([\n",
    "    [1, 2, 3],\n",
    "    [4, 5, 6, ],\n",
    "    [7, 8, 9]\n",
    "])"
   ]
  },
  {
   "cell_type": "markdown",
   "id": "d5ec698d1a5c0011",
   "metadata": {
    "collapsed": false
   },
   "source": [
    "## 矩阵的属性"
   ]
  },
  {
   "cell_type": "code",
   "execution_count": 30,
   "id": "5ab2cb2180500f98",
   "metadata": {
    "collapsed": false,
    "ExecuteTime": {
     "end_time": "2024-09-08T00:52:27.888073Z",
     "start_time": "2024-09-08T00:52:27.883857Z"
    }
   },
   "outputs": [
    {
     "name": "stdout",
     "output_type": "stream",
     "text": [
      "int64\n",
      "(5,)\n",
      "1\n",
      "5\n"
     ]
    }
   ],
   "source": [
    "matrix = np.array([1, 2, 3, 4, 5])\n",
    "\n",
    "print(matrix.dtype)  # 类型\n",
    "print(matrix.shape)  # 形状(2，5，2)：3维数组，5行，2列\n",
    "print(matrix.ndim)  # 维度\n",
    "print(matrix.size)  # 元素个数"
   ]
  },
  {
   "cell_type": "markdown",
   "id": "3d479c0524abad8",
   "metadata": {
    "collapsed": false
   },
   "source": [
    "## 内置的数组创建方法"
   ]
  },
  {
   "cell_type": "markdown",
   "id": "63ad389e157166c3",
   "metadata": {
    "collapsed": false
   },
   "source": [
    "### 0矩阵\n",
    "> 同理还有ones，empty，full(需要指定填充的值)"
   ]
  },
  {
   "cell_type": "code",
   "execution_count": 31,
   "id": "8d79d8d1fb5809b7",
   "metadata": {
    "collapsed": false,
    "ExecuteTime": {
     "end_time": "2024-09-08T00:52:27.905532Z",
     "start_time": "2024-09-08T00:52:27.899257Z"
    }
   },
   "outputs": [
    {
     "data": {
      "text/plain": "array([[0, 0, 0, 0, 0],\n       [0, 0, 0, 0, 0],\n       [0, 0, 0, 0, 0],\n       [0, 0, 0, 0, 0],\n       [0, 0, 0, 0, 0]], dtype=int32)"
     },
     "execution_count": 31,
     "metadata": {},
     "output_type": "execute_result"
    }
   ],
   "source": [
    "# 0矩阵\n",
    "np.zeros(5)\n",
    "# 指定数组类型\n",
    "np.zeros((5, 5), dtype=np.int32)"
   ]
  },
  {
   "cell_type": "markdown",
   "id": "4f89f2d651b3c086",
   "metadata": {
    "collapsed": false
   },
   "source": [
    "## 常见函数"
   ]
  },
  {
   "cell_type": "markdown",
   "id": "c5273c5f5649b3d8",
   "metadata": {
    "collapsed": false
   },
   "source": [
    "### arange() 函数\n",
    "> 通过指定起始值、终止值于步长来创建一维数组,步长默认为1。\n",
    "> \n",
    "> 创建的数组中**不包含**中止值"
   ]
  },
  {
   "cell_type": "code",
   "execution_count": 32,
   "id": "1a2f492fdc16ed39",
   "metadata": {
    "collapsed": false,
    "ExecuteTime": {
     "end_time": "2024-09-08T00:52:27.918486Z",
     "start_time": "2024-09-08T00:52:27.912513Z"
    }
   },
   "outputs": [
    {
     "data": {
      "text/plain": "array([10,  7,  4,  1])"
     },
     "execution_count": 32,
     "metadata": {},
     "output_type": "execute_result"
    }
   ],
   "source": [
    "np.arange(1, 10, 2)\n",
    "np.arange(10, 0, -3)"
   ]
  },
  {
   "cell_type": "markdown",
   "id": "9a92d2f9c85bbf42",
   "metadata": {
    "collapsed": false
   },
   "source": [
    "### linspace() 函数\n",
    "> 通过指定起始值、终止值、元素个数来创建一维数组，步长默认为1。\n",
    "> \n",
    "> 特点是默认情况下**包含**终止值，与arange()函数不同"
   ]
  },
  {
   "cell_type": "code",
   "execution_count": 33,
   "id": "705129757bab7777",
   "metadata": {
    "collapsed": false,
    "ExecuteTime": {
     "end_time": "2024-09-08T00:52:27.925081Z",
     "start_time": "2024-09-08T00:52:27.919814Z"
    }
   },
   "outputs": [
    {
     "data": {
      "text/plain": "array([ 1.  ,  3.25,  5.5 ,  7.75, 10.  ])"
     },
     "execution_count": 33,
     "metadata": {},
     "output_type": "execute_result"
    }
   ],
   "source": [
    "np.linspace(1, 10, 5)"
   ]
  },
  {
   "cell_type": "markdown",
   "id": "d5696390711f03e0",
   "metadata": {
    "collapsed": false
   },
   "source": [
    "### logspace() 函数\n",
    "> 与linspace()函数类似，起始值、默认值默认为10的幂，不过是等比数列"
   ]
  },
  {
   "cell_type": "code",
   "execution_count": 34,
   "id": "3be4b5f92e1527a3",
   "metadata": {
    "collapsed": false,
    "ExecuteTime": {
     "end_time": "2024-09-08T00:52:27.933686Z",
     "start_time": "2024-09-08T00:52:27.928176Z"
    }
   },
   "outputs": [
    {
     "data": {
      "text/plain": "array([1.e+01, 1.e+02, 1.e+03, 1.e+04, 1.e+05])"
     },
     "execution_count": 34,
     "metadata": {},
     "output_type": "execute_result"
    }
   ],
   "source": [
    "np.logspace(1, 5, 5)"
   ]
  },
  {
   "cell_type": "markdown",
   "id": "38c07c5134343f7a",
   "metadata": {
    "collapsed": false
   },
   "source": [
    "### eye() 函数\n",
    "> 生成对角线元素为1，其他元素为0的数组，类似于对角矩阵。\n",
    "> \n",
    "> k – 对角线的索引：0（默认）指主对角线，正值指上对角线，负值指下对角线"
   ]
  },
  {
   "cell_type": "code",
   "execution_count": 35,
   "id": "11748b876f0bacdf",
   "metadata": {
    "collapsed": false,
    "ExecuteTime": {
     "end_time": "2024-09-08T00:52:27.940165Z",
     "start_time": "2024-09-08T00:52:27.934964Z"
    }
   },
   "outputs": [
    {
     "data": {
      "text/plain": "array([[1., 0., 0., 0., 0.],\n       [0., 1., 0., 0., 0.],\n       [0., 0., 1., 0., 0.],\n       [0., 0., 0., 1., 0.],\n       [0., 0., 0., 0., 1.]])"
     },
     "execution_count": 35,
     "metadata": {},
     "output_type": "execute_result"
    }
   ],
   "source": [
    "np.eye(5)"
   ]
  },
  {
   "cell_type": "code",
   "execution_count": 36,
   "id": "41ba3aa90164b2f2",
   "metadata": {
    "collapsed": false,
    "ExecuteTime": {
     "end_time": "2024-09-08T00:52:27.946103Z",
     "start_time": "2024-09-08T00:52:27.941416Z"
    }
   },
   "outputs": [
    {
     "data": {
      "text/plain": "array([[0., 1., 0., 0., 0.],\n       [0., 0., 1., 0., 0.],\n       [0., 0., 0., 1., 0.],\n       [0., 0., 0., 0., 1.],\n       [0., 0., 0., 0., 0.]])"
     },
     "execution_count": 36,
     "metadata": {},
     "output_type": "execute_result"
    }
   ],
   "source": [
    "np.eye(5, 5, k=1)"
   ]
  },
  {
   "cell_type": "markdown",
   "id": "fc22b97031637aef",
   "metadata": {
    "collapsed": false
   },
   "source": [
    "### diag() 函数                             \n",
    "> 与eye()函数类似，可以指定对角线中的元素，可以是0或其他值。         \n",
    ">                                        \n",
    "> k – 对角线的索引：0（默认）指主对角线，正值指上对角线，负值指下对角线  "
   ]
  },
  {
   "cell_type": "code",
   "execution_count": 37,
   "id": "586d2ce03c8c4c12",
   "metadata": {
    "collapsed": false,
    "ExecuteTime": {
     "end_time": "2024-09-08T00:52:27.954019Z",
     "start_time": "2024-09-08T00:52:27.948388Z"
    }
   },
   "outputs": [
    {
     "data": {
      "text/plain": "array([[1, 0, 0, 0, 0],\n       [0, 2, 0, 0, 0],\n       [0, 0, 3, 0, 0],\n       [0, 0, 0, 4, 0],\n       [0, 0, 0, 0, 5]])"
     },
     "execution_count": 37,
     "metadata": {},
     "output_type": "execute_result"
    }
   ],
   "source": [
    "np.diag([1, 2, 3, 4, 5])"
   ]
  },
  {
   "cell_type": "code",
   "execution_count": 38,
   "id": "add4f9bb2f3554bc",
   "metadata": {
    "collapsed": false,
    "ExecuteTime": {
     "end_time": "2024-09-08T00:52:27.959922Z",
     "start_time": "2024-09-08T00:52:27.955061Z"
    }
   },
   "outputs": [
    {
     "data": {
      "text/plain": "array([[0, 1, 0, 0, 0, 0],\n       [0, 0, 2, 0, 0, 0],\n       [0, 0, 0, 3, 0, 0],\n       [0, 0, 0, 0, 4, 0],\n       [0, 0, 0, 0, 0, 5],\n       [0, 0, 0, 0, 0, 0]])"
     },
     "execution_count": 38,
     "metadata": {},
     "output_type": "execute_result"
    }
   ],
   "source": [
    "np.diag([1, 2, 3, 4, 5], k=1)"
   ]
  },
  {
   "cell_type": "markdown",
   "id": "d1435ddc3716585a",
   "metadata": {
    "collapsed": false
   },
   "source": [
    "### random 随机数系列函数\n",
    "> - rand()    \n",
    "> - randint() \n",
    "> - random()  "
   ]
  },
  {
   "cell_type": "markdown",
   "source": [
    "#### rand() 函数\n",
    "> 用于生成一个任意纬度的数组，元素范围默认为0-1\n",
    "> Random values in a given shape.\n",
    "> \n",
    "> ![](./assets/img.png)\n",
    "> 参数说明：\n",
    ">\n",
    "> "
   ],
   "metadata": {
    "collapsed": false
   },
   "id": "59c1850f4982ebbd"
  },
  {
   "cell_type": "code",
   "outputs": [
    {
     "data": {
      "text/plain": "0.8259436141698852"
     },
     "execution_count": 39,
     "metadata": {},
     "output_type": "execute_result"
    }
   ],
   "source": [
    "np.random.rand()"
   ],
   "metadata": {
    "collapsed": false,
    "ExecuteTime": {
     "end_time": "2024-09-08T00:52:27.965040Z",
     "start_time": "2024-09-08T00:52:27.961183Z"
    }
   },
   "id": "8148503097d1b9c0",
   "execution_count": 39
  },
  {
   "cell_type": "code",
   "outputs": [
    {
     "data": {
      "text/plain": "array([[0.59574821, 0.45633496, 0.50749983, 0.55560514, 0.6020559 ],\n       [0.28627274, 0.89557563, 0.61621858, 0.8894139 , 0.89132706],\n       [0.76602812, 0.32530778, 0.19708223, 0.41715899, 0.12740295],\n       [0.11033072, 0.21288816, 0.02981182, 0.00865971, 0.58857725],\n       [0.17947567, 0.3466807 , 0.96531907, 0.4193936 , 0.62235699]])"
     },
     "execution_count": 40,
     "metadata": {},
     "output_type": "execute_result"
    }
   ],
   "source": [
    "np.random.rand(5, 5)"
   ],
   "metadata": {
    "collapsed": false,
    "ExecuteTime": {
     "end_time": "2024-09-08T00:52:27.973261Z",
     "start_time": "2024-09-08T00:52:27.968085Z"
    }
   },
   "id": "4aeab4bad306d80b",
   "execution_count": 40
  },
  {
   "cell_type": "code",
   "outputs": [
    {
     "data": {
      "text/plain": "array([[[0.55224205],\n        [0.71981537]],\n\n       [[0.64430999],\n        [0.73916865]],\n\n       [[0.6424043 ],\n        [0.75533595]]])"
     },
     "execution_count": 41,
     "metadata": {},
     "output_type": "execute_result"
    }
   ],
   "source": [
    "np.random.rand(3, 2, 1)"
   ],
   "metadata": {
    "collapsed": false,
    "ExecuteTime": {
     "end_time": "2024-09-08T00:52:27.980510Z",
     "start_time": "2024-09-08T00:52:27.975193Z"
    }
   },
   "id": "5f13eae8828cce9a",
   "execution_count": 41
  },
  {
   "cell_type": "markdown",
   "source": [
    "#### randint() 函数\n",
    "> 生成指定范围的随机数 \n",
    "> \n",
    "> 参数说明：\n",
    "> \n",
    "> a：随机数的下限\n",
    "> b：随机数的上限\n",
    "> size：生成的随机数的个数"
   ],
   "metadata": {
    "collapsed": false
   },
   "id": "e6f87c9e172aec02"
  },
  {
   "cell_type": "code",
   "outputs": [
    {
     "data": {
      "text/plain": "array([9, 7, 2, 8, 2])"
     },
     "execution_count": 42,
     "metadata": {},
     "output_type": "execute_result"
    }
   ],
   "source": [
    "np.random.randint(1, 10, 5)"
   ],
   "metadata": {
    "collapsed": false,
    "ExecuteTime": {
     "end_time": "2024-09-08T00:52:27.995753Z",
     "start_time": "2024-09-08T00:52:27.982608Z"
    }
   },
   "id": "478a0c1962022f51",
   "execution_count": 42
  }
 ],
 "metadata": {
  "kernelspec": {
   "display_name": "Python 3 (ipykernel)",
   "language": "python",
   "name": "python3"
  },
  "language_info": {
   "codemirror_mode": {
    "name": "ipython",
    "version": 3
   },
   "file_extension": ".py",
   "mimetype": "text/x-python",
   "name": "python",
   "nbconvert_exporter": "python",
   "pygments_lexer": "ipython3",
   "version": "3.9.6"
  }
 },
 "nbformat": 4,
 "nbformat_minor": 5
}
