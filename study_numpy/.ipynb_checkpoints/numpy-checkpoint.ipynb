{
 "cells": [
  {
   "cell_type": "markdown",
   "id": "7f5e93cd963bc7ce",
   "metadata": {
    "collapsed": false,
    "jupyter": {
     "outputs_hidden": false
    }
   },
   "source": [
    "# numpy基础学习"
   ]
  },
  {
   "cell_type": "markdown",
   "id": "28184e7a493112af",
   "metadata": {
    "collapsed": false,
    "jupyter": {
     "outputs_hidden": false
    }
   },
   "source": [
    "## 基础矩阵"
   ]
  },
  {
   "cell_type": "code",
   "execution_count": 11,
   "id": "initial_id",
   "metadata": {
    "ExecuteTime": {
     "end_time": "2024-09-05T08:11:01.896875Z",
     "start_time": "2024-09-05T08:11:01.894407Z"
    }
   },
   "outputs": [],
   "source": [
    "import numpy as np"
   ]
  },
  {
   "cell_type": "code",
   "execution_count": 12,
   "id": "902d03531aa5404f",
   "metadata": {
    "ExecuteTime": {
     "end_time": "2024-09-05T08:11:01.902994Z",
     "start_time": "2024-09-05T08:11:01.899308Z"
    },
    "collapsed": false,
    "jupyter": {
     "outputs_hidden": false
    }
   },
   "outputs": [
    {
     "data": {
      "text/plain": [
       "array([[1, 2, 3],\n",
       "       [4, 5, 6],\n",
       "       [7, 8, 9]])"
      ]
     },
     "execution_count": 12,
     "metadata": {},
     "output_type": "execute_result"
    }
   ],
   "source": [
    "matrix = np.array([1, 2, 3, 4, 5])\n",
    "\n",
    "np.array([\n",
    "    [1, 2, 3],\n",
    "    [4, 5, 6, ],\n",
    "    [7, 8, 9]\n",
    "])"
   ]
  },
  {
   "cell_type": "markdown",
   "id": "d5ec698d1a5c0011",
   "metadata": {
    "collapsed": false,
    "jupyter": {
     "outputs_hidden": false
    }
   },
   "source": [
    "## 矩阵的属性"
   ]
  },
  {
   "cell_type": "code",
   "execution_count": 13,
   "id": "5ab2cb2180500f98",
   "metadata": {
    "ExecuteTime": {
     "end_time": "2024-09-05T08:11:01.906294Z",
     "start_time": "2024-09-05T08:11:01.904027Z"
    },
    "collapsed": false,
    "jupyter": {
     "outputs_hidden": false
    }
   },
   "outputs": [
    {
     "name": "stdout",
     "output_type": "stream",
     "text": [
      "int64\n",
      "(5,)\n",
      "1\n",
      "5\n"
     ]
    }
   ],
   "source": [
    "matrix = np.array([1, 2, 3, 4, 5])\n",
    "\n",
    "print(matrix.dtype)  # 类型\n",
    "print(matrix.shape)  # 形状\n",
    "print(matrix.ndim)  # 维度\n",
    "print(matrix.size)  # 元素个数"
   ]
  },
  {
   "cell_type": "markdown",
   "id": "3d479c0524abad8",
   "metadata": {
    "collapsed": false,
    "jupyter": {
     "outputs_hidden": false
    }
   },
   "source": [
    "## 内置的数组创建方法"
   ]
  },
  {
   "cell_type": "markdown",
   "id": "63ad389e157166c3",
   "metadata": {
    "collapsed": false,
    "jupyter": {
     "outputs_hidden": false
    }
   },
   "source": [
    "### 0矩阵\n",
    "> 同理还有ones，empty，full(需要指定填充的值)"
   ]
  },
  {
   "cell_type": "code",
   "execution_count": 14,
   "id": "8d79d8d1fb5809b7",
   "metadata": {
    "ExecuteTime": {
     "end_time": "2024-09-05T08:11:01.910146Z",
     "start_time": "2024-09-05T08:11:01.907252Z"
    },
    "collapsed": false,
    "jupyter": {
     "outputs_hidden": false
    }
   },
   "outputs": [
    {
     "data": {
      "text/plain": [
       "array([[0, 0, 0, 0, 0],\n",
       "       [0, 0, 0, 0, 0],\n",
       "       [0, 0, 0, 0, 0],\n",
       "       [0, 0, 0, 0, 0],\n",
       "       [0, 0, 0, 0, 0]], dtype=int32)"
      ]
     },
     "execution_count": 14,
     "metadata": {},
     "output_type": "execute_result"
    }
   ],
   "source": [
    "# 0矩阵\n",
    "np.zeros(5)\n",
    "# 指定数组类型\n",
    "np.zeros((5, 5), dtype=np.int32)"
   ]
  },
  {
   "cell_type": "markdown",
   "id": "4f89f2d651b3c086",
   "metadata": {
    "collapsed": false,
    "jupyter": {
     "outputs_hidden": false
    }
   },
   "source": [
    "## 常见函数"
   ]
  },
  {
   "cell_type": "markdown",
   "id": "c5273c5f5649b3d8",
   "metadata": {
    "collapsed": false,
    "jupyter": {
     "outputs_hidden": false
    }
   },
   "source": [
    "### arange() 函数\n",
    "> 通过指定起始值、终止值于步长来创建一维数组,步长默认为1。\n",
    "> \n",
    "> 创建的数组中**不包含**中止值"
   ]
  },
  {
   "cell_type": "code",
   "execution_count": 25,
   "id": "1a2f492fdc16ed39",
   "metadata": {
    "ExecuteTime": {
     "end_time": "2024-09-05T08:15:07.097657Z",
     "start_time": "2024-09-05T08:15:07.093218Z"
    },
    "collapsed": false,
    "jupyter": {
     "outputs_hidden": false
    }
   },
   "outputs": [
    {
     "data": {
      "text/plain": [
       "array([10,  7,  4,  1])"
      ]
     },
     "execution_count": 25,
     "metadata": {},
     "output_type": "execute_result"
    }
   ],
   "source": [
    "np.arange(1, 10, 2)\n",
    "np.arange(10, 0, -3)"
   ]
  },
  {
   "cell_type": "markdown",
   "id": "9a92d2f9c85bbf42",
   "metadata": {
    "collapsed": false,
    "jupyter": {
     "outputs_hidden": false
    }
   },
   "source": [
    "### linspace() 函数\n",
    "> 通过指定起始值、终止值、元素个数来创建一维数组，步长默认为1。\n",
    "> \n",
    "> 特点是默认情况下**包含**终止值，与arange()函数不同"
   ]
  },
  {
   "cell_type": "code",
   "execution_count": 27,
   "id": "705129757bab7777",
   "metadata": {
    "ExecuteTime": {
     "end_time": "2024-09-05T10:07:30.047811Z",
     "start_time": "2024-09-05T10:07:30.043702Z"
    },
    "collapsed": false,
    "jupyter": {
     "outputs_hidden": false
    }
   },
   "outputs": [
    {
     "data": {
      "text/plain": [
       "array([ 1.  ,  3.25,  5.5 ,  7.75, 10.  ])"
      ]
     },
     "execution_count": 27,
     "metadata": {},
     "output_type": "execute_result"
    }
   ],
   "source": [
    "np.linspace(1, 10, 5)"
   ]
  },
  {
   "cell_type": "markdown",
   "id": "d5696390711f03e0",
   "metadata": {
    "collapsed": false,
    "jupyter": {
     "outputs_hidden": false
    }
   },
   "source": [
    "### logspace() 函数\n",
    "> 与linspace()函数类似，起始值、默认值默认为10的幂，不过是等比数列"
   ]
  },
  {
   "cell_type": "code",
   "execution_count": 30,
   "id": "3be4b5f92e1527a3",
   "metadata": {
    "ExecuteTime": {
     "end_time": "2024-09-05T10:14:11.611776Z",
     "start_time": "2024-09-05T10:14:11.604762Z"
    },
    "collapsed": false,
    "jupyter": {
     "outputs_hidden": false
    }
   },
   "outputs": [
    {
     "data": {
      "text/plain": [
       "array([1.e+01, 1.e+02, 1.e+03, 1.e+04, 1.e+05])"
      ]
     },
     "execution_count": 30,
     "metadata": {},
     "output_type": "execute_result"
    }
   ],
   "source": [
    "np.logspace(1, 5, 5)"
   ]
  },
  {
   "cell_type": "markdown",
   "id": "38c07c5134343f7a",
   "metadata": {
    "collapsed": false,
    "jupyter": {
     "outputs_hidden": false
    }
   },
   "source": [
    "### eye() 函数\n",
    "> 生成对角线元素为1，其他元素为0的数组，类似于对角矩阵。\n",
    "> \n",
    "> k – 对角线的索引：0（默认）指主对角线，正值指上对角线，负值指下对角线"
   ]
  },
  {
   "cell_type": "code",
   "execution_count": 29,
   "id": "11748b876f0bacdf",
   "metadata": {
    "ExecuteTime": {
     "end_time": "2024-09-05T10:13:58.449252Z",
     "start_time": "2024-09-05T10:13:58.446239Z"
    },
    "collapsed": false,
    "jupyter": {
     "outputs_hidden": false
    }
   },
   "outputs": [
    {
     "data": {
      "text/plain": [
       "array([[1., 0., 0., 0., 0.],\n",
       "       [0., 1., 0., 0., 0.],\n",
       "       [0., 0., 1., 0., 0.],\n",
       "       [0., 0., 0., 1., 0.],\n",
       "       [0., 0., 0., 0., 1.]])"
      ]
     },
     "execution_count": 29,
     "metadata": {},
     "output_type": "execute_result"
    }
   ],
   "source": [
    "np.eye(5)"
   ]
  },
  {
   "cell_type": "code",
   "execution_count": 34,
   "id": "41ba3aa90164b2f2",
   "metadata": {
    "ExecuteTime": {
     "end_time": "2024-09-05T10:15:53.336875Z",
     "start_time": "2024-09-05T10:15:53.334261Z"
    },
    "collapsed": false,
    "jupyter": {
     "outputs_hidden": false
    }
   },
   "outputs": [
    {
     "data": {
      "text/plain": [
       "array([[0., 1., 0., 0., 0.],\n",
       "       [0., 0., 1., 0., 0.],\n",
       "       [0., 0., 0., 1., 0.],\n",
       "       [0., 0., 0., 0., 1.],\n",
       "       [0., 0., 0., 0., 0.]])"
      ]
     },
     "execution_count": 34,
     "metadata": {},
     "output_type": "execute_result"
    }
   ],
   "source": [
    "np.eye(5, 5, k=1)"
   ]
  },
  {
   "cell_type": "markdown",
   "id": "fc22b97031637aef",
   "metadata": {
    "collapsed": false,
    "jupyter": {
     "outputs_hidden": false
    }
   },
   "source": [
    "### diag() 函数                             \n",
    "> 与eye()函数类似，可以指定对角线中的元素，可以是0或其他值。         \n",
    ">                                        \n",
    "> k – 对角线的索引：0（默认）指主对角线，正值指上对角线，负值指下对角线  "
   ]
  },
  {
   "cell_type": "code",
   "execution_count": 35,
   "id": "586d2ce03c8c4c12",
   "metadata": {
    "ExecuteTime": {
     "end_time": "2024-09-05T10:17:43.962826Z",
     "start_time": "2024-09-05T10:17:43.956726Z"
    },
    "collapsed": false,
    "jupyter": {
     "outputs_hidden": false
    }
   },
   "outputs": [
    {
     "data": {
      "text/plain": [
       "array([[1, 0, 0, 0, 0],\n",
       "       [0, 2, 0, 0, 0],\n",
       "       [0, 0, 3, 0, 0],\n",
       "       [0, 0, 0, 4, 0],\n",
       "       [0, 0, 0, 0, 5]])"
      ]
     },
     "execution_count": 35,
     "metadata": {},
     "output_type": "execute_result"
    }
   ],
   "source": [
    "np.diag([1, 2, 3, 4, 5])"
   ]
  },
  {
   "cell_type": "code",
   "execution_count": 36,
   "id": "add4f9bb2f3554bc",
   "metadata": {
    "ExecuteTime": {
     "end_time": "2024-09-05T10:17:51.972421Z",
     "start_time": "2024-09-05T10:17:51.967345Z"
    },
    "collapsed": false,
    "jupyter": {
     "outputs_hidden": false
    }
   },
   "outputs": [
    {
     "data": {
      "text/plain": [
       "array([[0, 1, 0, 0, 0, 0],\n",
       "       [0, 0, 2, 0, 0, 0],\n",
       "       [0, 0, 0, 3, 0, 0],\n",
       "       [0, 0, 0, 0, 4, 0],\n",
       "       [0, 0, 0, 0, 0, 5],\n",
       "       [0, 0, 0, 0, 0, 0]])"
      ]
     },
     "execution_count": 36,
     "metadata": {},
     "output_type": "execute_result"
    }
   ],
   "source": [
    "np.diag([1, 2, 3, 4, 5], k=1)"
   ]
  },
  {
   "cell_type": "markdown",
   "id": "d1435ddc3716585a",
   "metadata": {
    "collapsed": false,
    "jupyter": {
     "outputs_hidden": false
    }
   },
   "source": [
    "### 随机数系列函数\n",
    "> - rand()    \n",
    "> - randint() \n",
    "> - random()  "
   ]
  }
 ],
 "metadata": {
  "kernelspec": {
   "display_name": "Python 3 (ipykernel)",
   "language": "python",
   "name": "python3"
  },
  "language_info": {
   "codemirror_mode": {
    "name": "ipython",
    "version": 3
   },
   "file_extension": ".py",
   "mimetype": "text/x-python",
   "name": "python",
   "nbconvert_exporter": "python",
   "pygments_lexer": "ipython3",
   "version": "3.9.6"
  }
 },
 "nbformat": 4,
 "nbformat_minor": 5
}
