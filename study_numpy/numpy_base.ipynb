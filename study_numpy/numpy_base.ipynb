{
 "cells": [
  {
   "cell_type": "markdown",
   "id": "7f5e93cd963bc7ce",
   "metadata": {
    "collapsed": false
   },
   "source": [
    "# numpy基础学习"
   ]
  },
  {
   "cell_type": "markdown",
   "id": "28184e7a493112af",
   "metadata": {
    "collapsed": false,
    "jp-MarkdownHeadingCollapsed": true
   },
   "source": [
    "## 基础矩阵"
   ]
  },
  {
   "cell_type": "code",
   "execution_count": 28,
   "id": "initial_id",
   "metadata": {
    "ExecuteTime": {
     "end_time": "2024-09-08T00:52:27.815111Z",
     "start_time": "2024-09-08T00:52:27.811997Z"
    }
   },
   "outputs": [],
   "source": [
    "import numpy as np"
   ]
  },
  {
   "cell_type": "code",
   "execution_count": 29,
   "id": "902d03531aa5404f",
   "metadata": {
    "ExecuteTime": {
     "end_time": "2024-09-08T00:52:27.868894Z",
     "start_time": "2024-09-08T00:52:27.863413Z"
    },
    "collapsed": false
   },
   "outputs": [
    {
     "data": {
      "text/plain": [
       "array([[1, 2, 3],\n",
       "       [4, 5, 6],\n",
       "       [7, 8, 9]])"
      ]
     },
     "execution_count": 29,
     "metadata": {},
     "output_type": "execute_result"
    }
   ],
   "source": [
    "matrix = np.array([1, 2, 3, 4, 5])\n",
    "\n",
    "np.array([\n",
    "    [1, 2, 3],\n",
    "    [4, 5, 6, ],\n",
    "    [7, 8, 9]\n",
    "])"
   ]
  },
  {
   "cell_type": "markdown",
   "id": "d5ec698d1a5c0011",
   "metadata": {
    "collapsed": false,
    "jp-MarkdownHeadingCollapsed": true
   },
   "source": [
    "## 矩阵的属性"
   ]
  },
  {
   "cell_type": "code",
   "execution_count": 30,
   "id": "5ab2cb2180500f98",
   "metadata": {
    "ExecuteTime": {
     "end_time": "2024-09-08T00:52:27.888073Z",
     "start_time": "2024-09-08T00:52:27.883857Z"
    },
    "collapsed": false
   },
   "outputs": [
    {
     "name": "stdout",
     "output_type": "stream",
     "text": [
      "int64\n",
      "(5,)\n",
      "1\n",
      "5\n"
     ]
    }
   ],
   "source": [
    "matrix = np.array([1, 2, 3, 4, 5])\n",
    "\n",
    "print(matrix.dtype)  # 类型\n",
    "print(matrix.shape)  # 形状(2，5，2)：3维数组，5行，2列\n",
    "print(matrix.ndim)  # 维度\n",
    "print(matrix.size)  # 元素个数"
   ]
  },
  {
   "cell_type": "markdown",
   "id": "3d479c0524abad8",
   "metadata": {
    "collapsed": false,
    "jp-MarkdownHeadingCollapsed": true
   },
   "source": [
    "## 内置的数组创建方法"
   ]
  },
  {
   "cell_type": "markdown",
   "id": "63ad389e157166c3",
   "metadata": {
    "collapsed": false
   },
   "source": [
    "### 0矩阵\n",
    "> 同理还有ones，empty，full(需要指定填充的值)"
   ]
  },
  {
   "cell_type": "code",
   "execution_count": 31,
   "id": "8d79d8d1fb5809b7",
   "metadata": {
    "ExecuteTime": {
     "end_time": "2024-09-08T00:52:27.905532Z",
     "start_time": "2024-09-08T00:52:27.899257Z"
    },
    "collapsed": false
   },
   "outputs": [
    {
     "data": {
      "text/plain": [
       "array([[0, 0, 0, 0, 0],\n",
       "       [0, 0, 0, 0, 0],\n",
       "       [0, 0, 0, 0, 0],\n",
       "       [0, 0, 0, 0, 0],\n",
       "       [0, 0, 0, 0, 0]], dtype=int32)"
      ]
     },
     "execution_count": 31,
     "metadata": {},
     "output_type": "execute_result"
    }
   ],
   "source": [
    "# 0矩阵\n",
    "np.zeros(5)\n",
    "# 指定数组类型\n",
    "np.zeros((5, 5), dtype=np.int32)"
   ]
  },
  {
   "cell_type": "markdown",
   "id": "4f89f2d651b3c086",
   "metadata": {
    "collapsed": false,
    "jp-MarkdownHeadingCollapsed": true
   },
   "source": [
    "## 常见函数"
   ]
  },
  {
   "cell_type": "markdown",
   "id": "c5273c5f5649b3d8",
   "metadata": {
    "collapsed": false
   },
   "source": [
    "### arange() 函数\n",
    "> 通过指定起始值、终止值于步长来创建一维数组,步长默认为1。\n",
    "> \n",
    "> 创建的数组中**不包含**中止值"
   ]
  },
  {
   "cell_type": "code",
   "execution_count": 32,
   "id": "1a2f492fdc16ed39",
   "metadata": {
    "ExecuteTime": {
     "end_time": "2024-09-08T00:52:27.918486Z",
     "start_time": "2024-09-08T00:52:27.912513Z"
    },
    "collapsed": false
   },
   "outputs": [
    {
     "data": {
      "text/plain": [
       "array([10,  7,  4,  1])"
      ]
     },
     "execution_count": 32,
     "metadata": {},
     "output_type": "execute_result"
    }
   ],
   "source": [
    "np.arange(1, 10, 2)\n",
    "np.arange(10, 0, -3)"
   ]
  },
  {
   "cell_type": "markdown",
   "id": "9a92d2f9c85bbf42",
   "metadata": {
    "collapsed": false
   },
   "source": [
    "### linspace() 函数\n",
    "> 通过指定起始值、终止值、元素个数来创建一维数组，步长默认为1。\n",
    "> \n",
    "> 特点是默认情况下**包含**终止值，与arange()函数不同"
   ]
  },
  {
   "cell_type": "code",
   "execution_count": 33,
   "id": "705129757bab7777",
   "metadata": {
    "ExecuteTime": {
     "end_time": "2024-09-08T00:52:27.925081Z",
     "start_time": "2024-09-08T00:52:27.919814Z"
    },
    "collapsed": false
   },
   "outputs": [
    {
     "data": {
      "text/plain": [
       "array([ 1.  ,  3.25,  5.5 ,  7.75, 10.  ])"
      ]
     },
     "execution_count": 33,
     "metadata": {},
     "output_type": "execute_result"
    }
   ],
   "source": [
    "np.linspace(1, 10, 5)"
   ]
  },
  {
   "cell_type": "markdown",
   "id": "d5696390711f03e0",
   "metadata": {
    "collapsed": false
   },
   "source": [
    "### logspace() 函数\n",
    "> 与linspace()函数类似，起始值、默认值默认为10的幂，不过是等比数列"
   ]
  },
  {
   "cell_type": "code",
   "execution_count": 34,
   "id": "3be4b5f92e1527a3",
   "metadata": {
    "ExecuteTime": {
     "end_time": "2024-09-08T00:52:27.933686Z",
     "start_time": "2024-09-08T00:52:27.928176Z"
    },
    "collapsed": false
   },
   "outputs": [
    {
     "data": {
      "text/plain": [
       "array([1.e+01, 1.e+02, 1.e+03, 1.e+04, 1.e+05])"
      ]
     },
     "execution_count": 34,
     "metadata": {},
     "output_type": "execute_result"
    }
   ],
   "source": [
    "np.logspace(1, 5, 5)"
   ]
  },
  {
   "cell_type": "markdown",
   "id": "38c07c5134343f7a",
   "metadata": {
    "collapsed": false
   },
   "source": [
    "### eye() 函数\n",
    "> 生成对角线元素为1，其他元素为0的数组，类似于对角矩阵。\n",
    "> \n",
    "> k – 对角线的索引：0（默认）指主对角线，正值指上对角线，负值指下对角线"
   ]
  },
  {
   "cell_type": "code",
   "execution_count": 35,
   "id": "11748b876f0bacdf",
   "metadata": {
    "ExecuteTime": {
     "end_time": "2024-09-08T00:52:27.940165Z",
     "start_time": "2024-09-08T00:52:27.934964Z"
    },
    "collapsed": false
   },
   "outputs": [
    {
     "data": {
      "text/plain": [
       "array([[1., 0., 0., 0., 0.],\n",
       "       [0., 1., 0., 0., 0.],\n",
       "       [0., 0., 1., 0., 0.],\n",
       "       [0., 0., 0., 1., 0.],\n",
       "       [0., 0., 0., 0., 1.]])"
      ]
     },
     "execution_count": 35,
     "metadata": {},
     "output_type": "execute_result"
    }
   ],
   "source": [
    "np.eye(5)"
   ]
  },
  {
   "cell_type": "code",
   "execution_count": 36,
   "id": "41ba3aa90164b2f2",
   "metadata": {
    "ExecuteTime": {
     "end_time": "2024-09-08T00:52:27.946103Z",
     "start_time": "2024-09-08T00:52:27.941416Z"
    },
    "collapsed": false
   },
   "outputs": [
    {
     "data": {
      "text/plain": [
       "array([[0., 1., 0., 0., 0.],\n",
       "       [0., 0., 1., 0., 0.],\n",
       "       [0., 0., 0., 1., 0.],\n",
       "       [0., 0., 0., 0., 1.],\n",
       "       [0., 0., 0., 0., 0.]])"
      ]
     },
     "execution_count": 36,
     "metadata": {},
     "output_type": "execute_result"
    }
   ],
   "source": [
    "np.eye(5, 5, k=1)"
   ]
  },
  {
   "cell_type": "markdown",
   "id": "fc22b97031637aef",
   "metadata": {
    "collapsed": false
   },
   "source": [
    "### diag() 函数                             \n",
    "> 与eye()函数类似，可以指定对角线中的元素，可以是0或其他值。         \n",
    ">                                        \n",
    "> k – 对角线的索引：0（默认）指主对角线，正值指上对角线，负值指下对角线  "
   ]
  },
  {
   "cell_type": "code",
   "execution_count": 37,
   "id": "586d2ce03c8c4c12",
   "metadata": {
    "ExecuteTime": {
     "end_time": "2024-09-08T00:52:27.954019Z",
     "start_time": "2024-09-08T00:52:27.948388Z"
    },
    "collapsed": false
   },
   "outputs": [
    {
     "data": {
      "text/plain": [
       "array([[1, 0, 0, 0, 0],\n",
       "       [0, 2, 0, 0, 0],\n",
       "       [0, 0, 3, 0, 0],\n",
       "       [0, 0, 0, 4, 0],\n",
       "       [0, 0, 0, 0, 5]])"
      ]
     },
     "execution_count": 37,
     "metadata": {},
     "output_type": "execute_result"
    }
   ],
   "source": [
    "np.diag([1, 2, 3, 4, 5])"
   ]
  },
  {
   "cell_type": "code",
   "execution_count": 38,
   "id": "add4f9bb2f3554bc",
   "metadata": {
    "ExecuteTime": {
     "end_time": "2024-09-08T00:52:27.959922Z",
     "start_time": "2024-09-08T00:52:27.955061Z"
    },
    "collapsed": false
   },
   "outputs": [
    {
     "data": {
      "text/plain": [
       "array([[0, 1, 0, 0, 0, 0],\n",
       "       [0, 0, 2, 0, 0, 0],\n",
       "       [0, 0, 0, 3, 0, 0],\n",
       "       [0, 0, 0, 0, 4, 0],\n",
       "       [0, 0, 0, 0, 0, 5],\n",
       "       [0, 0, 0, 0, 0, 0]])"
      ]
     },
     "execution_count": 38,
     "metadata": {},
     "output_type": "execute_result"
    }
   ],
   "source": [
    "np.diag([1, 2, 3, 4, 5], k=1)"
   ]
  },
  {
   "cell_type": "markdown",
   "id": "d1435ddc3716585a",
   "metadata": {
    "collapsed": false
   },
   "source": [
    "### random 随机数系列函数\n",
    "> - rand()    \n",
    "> - randint() \n",
    "> - random()  "
   ]
  },
  {
   "cell_type": "markdown",
   "id": "59c1850f4982ebbd",
   "metadata": {
    "collapsed": false
   },
   "source": [
    "#### rand() 函数\n",
    "> 用于生成一个任意纬度的数组，元素范围默认为0-1\n",
    "> Random values in a given shape.\n",
    "> \n",
    "> ![](./assets/img.png)"
   ]
  },
  {
   "cell_type": "code",
   "execution_count": 39,
   "id": "8148503097d1b9c0",
   "metadata": {
    "ExecuteTime": {
     "end_time": "2024-09-08T00:52:27.965040Z",
     "start_time": "2024-09-08T00:52:27.961183Z"
    },
    "collapsed": false
   },
   "outputs": [
    {
     "data": {
      "text/plain": [
       "0.8259436141698852"
      ]
     },
     "execution_count": 39,
     "metadata": {},
     "output_type": "execute_result"
    }
   ],
   "source": [
    "np.random.rand()"
   ]
  },
  {
   "cell_type": "code",
   "execution_count": 40,
   "id": "4aeab4bad306d80b",
   "metadata": {
    "ExecuteTime": {
     "end_time": "2024-09-08T00:52:27.973261Z",
     "start_time": "2024-09-08T00:52:27.968085Z"
    },
    "collapsed": false
   },
   "outputs": [
    {
     "data": {
      "text/plain": [
       "array([[0.59574821, 0.45633496, 0.50749983, 0.55560514, 0.6020559 ],\n",
       "       [0.28627274, 0.89557563, 0.61621858, 0.8894139 , 0.89132706],\n",
       "       [0.76602812, 0.32530778, 0.19708223, 0.41715899, 0.12740295],\n",
       "       [0.11033072, 0.21288816, 0.02981182, 0.00865971, 0.58857725],\n",
       "       [0.17947567, 0.3466807 , 0.96531907, 0.4193936 , 0.62235699]])"
      ]
     },
     "execution_count": 40,
     "metadata": {},
     "output_type": "execute_result"
    }
   ],
   "source": [
    "np.random.rand(5, 5)"
   ]
  },
  {
   "cell_type": "code",
   "execution_count": 41,
   "id": "5f13eae8828cce9a",
   "metadata": {
    "ExecuteTime": {
     "end_time": "2024-09-08T00:52:27.980510Z",
     "start_time": "2024-09-08T00:52:27.975193Z"
    },
    "collapsed": false
   },
   "outputs": [
    {
     "data": {
      "text/plain": [
       "array([[[0.55224205],\n",
       "        [0.71981537]],\n",
       "\n",
       "       [[0.64430999],\n",
       "        [0.73916865]],\n",
       "\n",
       "       [[0.6424043 ],\n",
       "        [0.75533595]]])"
      ]
     },
     "execution_count": 41,
     "metadata": {},
     "output_type": "execute_result"
    }
   ],
   "source": [
    "np.random.rand(3, 2, 1)"
   ]
  },
  {
   "cell_type": "markdown",
   "id": "e6f87c9e172aec02",
   "metadata": {
    "collapsed": false
   },
   "source": [
    "#### randint() 函数\n",
    "> 生成指定范围的随机数 \n",
    "> \n",
    "> randint(low, high=None, size=None, dtype=int)\n",
    "> 参数说明：\n",
    "> \n",
    "> low：随机数的下限（低位包含）\n",
    "> high：随机数的上限（高位不包含）\n",
    "> size：生成的随机数的个数（size可以是元祖类型的形状）"
   ]
  },
  {
   "cell_type": "code",
   "execution_count": 42,
   "id": "478a0c1962022f51",
   "metadata": {
    "ExecuteTime": {
     "end_time": "2024-09-08T00:52:27.995753Z",
     "start_time": "2024-09-08T00:52:27.982608Z"
    },
    "collapsed": false
   },
   "outputs": [
    {
     "data": {
      "text/plain": [
       "array([9, 7, 2, 8, 2])"
      ]
     },
     "execution_count": 42,
     "metadata": {},
     "output_type": "execute_result"
    }
   ],
   "source": [
    "np.random.randint(1, 10, 5)"
   ]
  },
  {
   "cell_type": "markdown",
   "id": "fcc888bfaf52cab3",
   "metadata": {
    "collapsed": false
   },
   "source": []
  },
  {
   "cell_type": "code",
   "execution_count": 47,
   "id": "fdf2142044d767af",
   "metadata": {
    "ExecuteTime": {
     "end_time": "2024-09-08T00:58:47.972009Z",
     "start_time": "2024-09-08T00:58:47.966633Z"
    },
    "collapsed": false
   },
   "outputs": [
    {
     "data": {
      "text/plain": [
       "array([[[4, 4, 9, 4],\n",
       "        [7, 5, 2, 5],\n",
       "        [1, 7, 9, 3]],\n",
       "\n",
       "       [[2, 2, 2, 4],\n",
       "        [2, 4, 1, 2],\n",
       "        [9, 1, 2, 5]]])"
      ]
     },
     "execution_count": 47,
     "metadata": {},
     "output_type": "execute_result"
    }
   ],
   "source": [
    "np.random.randint(1, 10, (2, 3, 4))"
   ]
  },
  {
   "cell_type": "markdown",
   "id": "742b324020625a39",
   "metadata": {
    "collapsed": false
   },
   "source": [
    "#### random() 函数\n",
    "> 生成0-1之间的随机浮点数数组，也可以给定形状\n",
    "> \n",
    "> 参数说明：\n",
    "> \n",
    "> size：生成的随机数的个数（size可以是元祖类型的形状）\n",
    "> 一个数字是个数\n",
    "> 元祖类型是形状"
   ]
  },
  {
   "cell_type": "code",
   "execution_count": 48,
   "id": "e9090a6129fb271b",
   "metadata": {
    "ExecuteTime": {
     "end_time": "2024-09-08T01:02:34.794477Z",
     "start_time": "2024-09-08T01:02:34.789109Z"
    },
    "collapsed": false
   },
   "outputs": [
    {
     "data": {
      "text/plain": [
       "array([0.85821925, 0.23245002, 0.17221818, 0.57642173, 0.55987104])"
      ]
     },
     "execution_count": 48,
     "metadata": {},
     "output_type": "execute_result"
    }
   ],
   "source": [
    "np.random.random(5)"
   ]
  },
  {
   "cell_type": "code",
   "execution_count": 51,
   "id": "6e07ab177c27368c",
   "metadata": {
    "ExecuteTime": {
     "end_time": "2024-09-08T01:03:56.413037Z",
     "start_time": "2024-09-08T01:03:56.409753Z"
    },
    "collapsed": false
   },
   "outputs": [
    {
     "data": {
      "text/plain": [
       "array([[[0.81258786, 0.05868512, 0.52032849, 0.2337052 ],\n",
       "        [0.41856559, 0.57176277, 0.69243859, 0.6131041 ],\n",
       "        [0.12925353, 0.2966594 , 0.8998512 , 0.76730777]],\n",
       "\n",
       "       [[0.2783441 , 0.11886645, 0.28983323, 0.87025189],\n",
       "        [0.97039598, 0.41784996, 0.56963091, 0.60663565],\n",
       "        [0.38917098, 0.47245497, 0.62336096, 0.94210062]]])"
      ]
     },
     "execution_count": 51,
     "metadata": {},
     "output_type": "execute_result"
    }
   ],
   "source": [
    "np.random.random((2, 3, 4))"
   ]
  },
  {
   "cell_type": "markdown",
   "id": "3dd8cff3a805cb7c",
   "metadata": {
    "collapsed": false
   },
   "source": [
    "## 切片和索引"
   ]
  },
  {
   "cell_type": "code",
   "execution_count": 56,
   "id": "418e50ab02aec02c",
   "metadata": {
    "ExecuteTime": {
     "end_time": "2024-09-08T03:39:32.559715Z",
     "start_time": "2024-09-08T03:39:32.557559Z"
    },
    "collapsed": false
   },
   "outputs": [],
   "source": [
    "matrix = np.array([1, 2, 3, 4, 5])"
   ]
  },
  {
   "cell_type": "markdown",
   "id": "b072937c5b861e00",
   "metadata": {
    "collapsed": false,
    "jp-MarkdownHeadingCollapsed": true
   },
   "source": [
    "### 简单的切片"
   ]
  },
  {
   "cell_type": "code",
   "execution_count": 61,
   "id": "8ad58673779cf15f",
   "metadata": {
    "ExecuteTime": {
     "end_time": "2024-09-08T03:40:23.188841Z",
     "start_time": "2024-09-08T03:40:23.182967Z"
    },
    "collapsed": false
   },
   "outputs": [
    {
     "data": {
      "text/plain": [
       "array([1, 2, 3])"
      ]
     },
     "execution_count": 61,
     "metadata": {},
     "output_type": "execute_result"
    }
   ],
   "source": [
    "matrix[:3]"
   ]
  },
  {
   "cell_type": "code",
   "execution_count": 63,
   "id": "d9af0bdc9bc198f7",
   "metadata": {
    "ExecuteTime": {
     "end_time": "2024-09-08T03:40:33.894614Z",
     "start_time": "2024-09-08T03:40:33.891681Z"
    },
    "collapsed": false
   },
   "outputs": [
    {
     "data": {
      "text/plain": [
       "array([4, 5])"
      ]
     },
     "execution_count": 63,
     "metadata": {},
     "output_type": "execute_result"
    }
   ],
   "source": [
    "matrix[3:]"
   ]
  },
  {
   "cell_type": "code",
   "execution_count": 60,
   "id": "eb14d3bca1597fe3",
   "metadata": {
    "ExecuteTime": {
     "end_time": "2024-09-08T03:40:14.930619Z",
     "start_time": "2024-09-08T03:40:14.925595Z"
    },
    "collapsed": false
   },
   "outputs": [
    {
     "data": {
      "text/plain": [
       "array([2, 3])"
      ]
     },
     "execution_count": 60,
     "metadata": {},
     "output_type": "execute_result"
    }
   ],
   "source": [
    "matrix[1:3]"
   ]
  },
  {
   "cell_type": "code",
   "execution_count": 65,
   "id": "69526c7f81a08a2c",
   "metadata": {
    "ExecuteTime": {
     "end_time": "2024-09-08T03:40:53.655027Z",
     "start_time": "2024-09-08T03:40:53.651512Z"
    },
    "collapsed": false
   },
   "outputs": [
    {
     "data": {
      "text/plain": [
       "array([2, 4])"
      ]
     },
     "execution_count": 65,
     "metadata": {},
     "output_type": "execute_result"
    }
   ],
   "source": [
    "matrix[1:5:2]"
   ]
  },
  {
   "cell_type": "code",
   "execution_count": 66,
   "id": "52397a85786b5fc8",
   "metadata": {
    "ExecuteTime": {
     "end_time": "2024-09-08T03:40:56.971599Z",
     "start_time": "2024-09-08T03:40:56.967474Z"
    },
    "collapsed": false
   },
   "outputs": [
    {
     "data": {
      "text/plain": [
       "array([5, 4, 3, 2, 1])"
      ]
     },
     "execution_count": 66,
     "metadata": {},
     "output_type": "execute_result"
    }
   ],
   "source": [
    "matrix[::-1]"
   ]
  },
  {
   "cell_type": "code",
   "execution_count": 67,
   "id": "99f8481246acf9e9",
   "metadata": {
    "ExecuteTime": {
     "end_time": "2024-09-08T03:41:09.418035Z",
     "start_time": "2024-09-08T03:41:09.415538Z"
    },
    "collapsed": false
   },
   "outputs": [
    {
     "data": {
      "text/plain": [
       "np.int64(5)"
      ]
     },
     "execution_count": 67,
     "metadata": {},
     "output_type": "execute_result"
    }
   ],
   "source": [
    "matrix[-1]"
   ]
  },
  {
   "cell_type": "markdown",
   "id": "6588ec8a47768a2e",
   "metadata": {
    "collapsed": false
   },
   "source": [
    "### 二维切片操作"
   ]
  },
  {
   "cell_type": "code",
   "outputs": [],
   "source": [
    "matrix = np.array([\n",
    "    [1, 2, 3, 4, 5],\n",
    "    [6, 7, 8, 9, 10],\n",
    "    [11, 12, 13, 14, 15],\n",
    "    [16, 17, 18, 19, 20]\n",
    "])"
   ],
   "metadata": {
    "collapsed": false,
    "ExecuteTime": {
     "end_time": "2024-09-08T04:39:26.615601Z",
     "start_time": "2024-09-08T04:39:26.611939Z"
    }
   },
   "id": "ab76eae34fb2b0c3",
   "execution_count": 70
  },
  {
   "cell_type": "code",
   "outputs": [
    {
     "data": {
      "text/plain": "array([[ 1,  2,  3,  4,  5],\n       [ 6,  7,  8,  9, 10]])"
     },
     "execution_count": 71,
     "metadata": {},
     "output_type": "execute_result"
    }
   ],
   "source": [
    "matrix[:2]"
   ],
   "metadata": {
    "collapsed": false,
    "ExecuteTime": {
     "end_time": "2024-09-08T04:39:27.277126Z",
     "start_time": "2024-09-08T04:39:27.273396Z"
    }
   },
   "id": "279d189268186e7a",
   "execution_count": 71
  },
  {
   "cell_type": "code",
   "outputs": [
    {
     "data": {
      "text/plain": "array([ 2,  7, 12, 17])"
     },
     "execution_count": 72,
     "metadata": {},
     "output_type": "execute_result"
    }
   ],
   "source": [
    "matrix[:, 1]"
   ],
   "metadata": {
    "collapsed": false,
    "ExecuteTime": {
     "end_time": "2024-09-08T04:39:36.428889Z",
     "start_time": "2024-09-08T04:39:36.424649Z"
    }
   },
   "id": "2a4ff6436d4a0fe4",
   "execution_count": 72
  },
  {
   "cell_type": "code",
   "outputs": [
    {
     "data": {
      "text/plain": "array([[1, 2],\n       [6, 7]])"
     },
     "execution_count": 73,
     "metadata": {},
     "output_type": "execute_result"
    }
   ],
   "source": [
    "matrix[:2, :2]"
   ],
   "metadata": {
    "collapsed": false,
    "ExecuteTime": {
     "end_time": "2024-09-08T04:40:28.613190Z",
     "start_time": "2024-09-08T04:40:28.610521Z"
    }
   },
   "id": "8790867bef7fd8da",
   "execution_count": 73
  },
  {
   "cell_type": "code",
   "outputs": [
    {
     "data": {
      "text/plain": "array([[ 7,  8],\n       [12, 13]])"
     },
     "execution_count": 74,
     "metadata": {},
     "output_type": "execute_result"
    }
   ],
   "source": [
    "matrix[1:3, 1:3]"
   ],
   "metadata": {
    "collapsed": false,
    "ExecuteTime": {
     "end_time": "2024-09-08T04:40:34.489137Z",
     "start_time": "2024-09-08T04:40:34.485570Z"
    }
   },
   "id": "62379e2eecdff745",
   "execution_count": 74
  },
  {
   "cell_type": "code",
   "outputs": [
    {
     "data": {
      "text/plain": "array([[[0.54824383, 0.57026978, 0.8199125 ],\n        [0.95408817, 0.42311697, 0.32299094]],\n\n       [[0.54024591, 0.73659926, 0.45771397],\n        [0.57984313, 0.91693182, 0.66243205]],\n\n       [[0.41274245, 0.94598796, 0.54254191],\n        [0.73933191, 0.22388443, 0.72607318]]])"
     },
     "execution_count": 78,
     "metadata": {},
     "output_type": "execute_result"
    }
   ],
   "source": [
    "matrix = np.random.random((3, 2, 3))\n",
    "matrix"
   ],
   "metadata": {
    "collapsed": false,
    "ExecuteTime": {
     "end_time": "2024-09-08T04:41:21.212603Z",
     "start_time": "2024-09-08T04:41:21.209479Z"
    }
   },
   "id": "756899b86b0021b",
   "execution_count": 78
  },
  {
   "cell_type": "code",
   "outputs": [
    {
     "data": {
      "text/plain": "np.float64(0.4231169743556704)"
     },
     "execution_count": 87,
     "metadata": {},
     "output_type": "execute_result"
    }
   ],
   "source": [
    "matrix[0, 1, 1]"
   ],
   "metadata": {
    "collapsed": false,
    "ExecuteTime": {
     "end_time": "2024-09-08T04:44:19.890756Z",
     "start_time": "2024-09-08T04:44:19.888171Z"
    }
   },
   "id": "b7cfa6cc278da895",
   "execution_count": 87
  },
  {
   "cell_type": "code",
   "outputs": [
    {
     "data": {
      "text/plain": "array([[0.57026978, 0.8199125 ],\n       [0.73659926, 0.45771397]])"
     },
     "execution_count": 91,
     "metadata": {},
     "output_type": "execute_result"
    }
   ],
   "source": [
    "matrix[:2, -2, 1:]"
   ],
   "metadata": {
    "collapsed": false,
    "ExecuteTime": {
     "end_time": "2024-09-08T04:45:28.778190Z",
     "start_time": "2024-09-08T04:45:28.773421Z"
    }
   },
   "id": "7c3e2589d99dc52c",
   "execution_count": 91
  },
  {
   "cell_type": "markdown",
   "source": [
    "## 修改数组形状"
   ],
   "metadata": {
    "collapsed": false
   },
   "id": "586f789e92edc1e4"
  },
  {
   "cell_type": "markdown",
   "source": [
    "### reshape() 函数\n",
    "> 不改变数据的条件下修改数组的形状，如果修改后的形状不符合原数组的形状，则会报错"
   ],
   "metadata": {
    "collapsed": false
   },
   "id": "b189729de511d0d"
  },
  {
   "cell_type": "code",
   "outputs": [
    {
     "data": {
      "text/plain": "array([[[0.96228951, 0.56545538, 0.17757067],\n        [0.82649423, 0.23595948, 0.58374138]],\n\n       [[0.27432906, 0.73369861, 0.91225117],\n        [0.93965583, 0.13574604, 0.20847101]],\n\n       [[0.20342963, 0.02796754, 0.65052874],\n        [0.00709741, 0.89156612, 0.99207726]]])"
     },
     "execution_count": 92,
     "metadata": {},
     "output_type": "execute_result"
    }
   ],
   "source": [
    "matrix = np.random.random((3, 2, 3))\n",
    "matrix"
   ],
   "metadata": {
    "collapsed": false,
    "ExecuteTime": {
     "end_time": "2024-09-08T04:47:29.550908Z",
     "start_time": "2024-09-08T04:47:29.545968Z"
    }
   },
   "id": "b74dde4f4871c0bc",
   "execution_count": 92
  },
  {
   "cell_type": "code",
   "outputs": [
    {
     "data": {
      "text/plain": "array([[0.96228951, 0.56545538, 0.17757067, 0.82649423, 0.23595948,\n        0.58374138],\n       [0.27432906, 0.73369861, 0.91225117, 0.93965583, 0.13574604,\n        0.20847101],\n       [0.20342963, 0.02796754, 0.65052874, 0.00709741, 0.89156612,\n        0.99207726]])"
     },
     "execution_count": 94,
     "metadata": {},
     "output_type": "execute_result"
    }
   ],
   "source": [
    "matrix.reshape(3, 6)"
   ],
   "metadata": {
    "collapsed": false,
    "ExecuteTime": {
     "end_time": "2024-09-08T04:56:16.443722Z",
     "start_time": "2024-09-08T04:56:16.437493Z"
    }
   },
   "id": "4105c6b9f9011be1",
   "execution_count": 94
  },
  {
   "cell_type": "code",
   "outputs": [
    {
     "data": {
      "text/plain": "array([[[0.96228951],\n        [0.56545538],\n        [0.17757067],\n        [0.82649423],\n        [0.23595948],\n        [0.58374138]],\n\n       [[0.27432906],\n        [0.73369861],\n        [0.91225117],\n        [0.93965583],\n        [0.13574604],\n        [0.20847101]],\n\n       [[0.20342963],\n        [0.02796754],\n        [0.65052874],\n        [0.00709741],\n        [0.89156612],\n        [0.99207726]]])"
     },
     "execution_count": 101,
     "metadata": {},
     "output_type": "execute_result"
    }
   ],
   "source": [
    "matrix.reshape(3, 6, 1)"
   ],
   "metadata": {
    "collapsed": false,
    "ExecuteTime": {
     "end_time": "2024-09-08T05:02:00.203237Z",
     "start_time": "2024-09-08T05:02:00.198571Z"
    }
   },
   "id": "8e87c13f20c6b28e",
   "execution_count": 101
  },
  {
   "cell_type": "code",
   "outputs": [
    {
     "data": {
      "text/plain": "(3, 6, 1)"
     },
     "execution_count": 102,
     "metadata": {},
     "output_type": "execute_result"
    }
   ],
   "source": [
    "matrix.reshape(3, 6, 1).shape"
   ],
   "metadata": {
    "collapsed": false,
    "ExecuteTime": {
     "end_time": "2024-09-08T05:02:06.543063Z",
     "start_time": "2024-09-08T05:02:06.539445Z"
    }
   },
   "id": "6c24c8caf1064970",
   "execution_count": 102
  },
  {
   "cell_type": "markdown",
   "source": [
    "### ravel() 函数\n",
    "> 展平数组，将多维数组转换为一维数组\n",
    ">   \n",
    "> 参数说明：\n",
    "> order: 顺序：C（默认）：按行，F：按列，A：按元素"
   ],
   "metadata": {
    "collapsed": false
   },
   "id": "58244d0c46630bab"
  },
  {
   "cell_type": "code",
   "outputs": [
    {
     "data": {
      "text/plain": "array([0.32932642, 0.40634923, 0.59354863, 0.61569295, 0.49877526,\n       0.79050813, 0.24448559, 0.96201383, 0.07944986, 0.47364069,\n       0.20475471, 0.68008963, 0.55664927, 0.09045639, 0.02048138,\n       0.40050942, 0.8579708 , 0.64396112])"
     },
     "execution_count": 108,
     "metadata": {},
     "output_type": "execute_result"
    }
   ],
   "source": [
    "np.random.random((3, 2, 3)).ravel()"
   ],
   "metadata": {
    "collapsed": false,
    "ExecuteTime": {
     "end_time": "2024-09-08T05:14:23.833614Z",
     "start_time": "2024-09-08T05:14:23.828523Z"
    }
   },
   "id": "32c0dc5a2c85e97b",
   "execution_count": 108
  },
  {
   "cell_type": "code",
   "outputs": [
    {
     "data": {
      "text/plain": "array([0.92052669, 0.10228409, 0.89181007, 0.85827545, 0.66641908,\n       0.36255808, 0.43583541, 0.46302137, 0.17987398, 0.96789792,\n       0.04834872, 0.69837202, 0.06219736, 0.45637718, 0.84101446,\n       0.5180817 , 0.07425303, 0.48908248])"
     },
     "execution_count": 106,
     "metadata": {},
     "output_type": "execute_result"
    }
   ],
   "source": [
    "np.random.random((3, 2, 3)).ravel(order='F')"
   ],
   "metadata": {
    "collapsed": false,
    "ExecuteTime": {
     "end_time": "2024-09-08T05:13:49.589830Z",
     "start_time": "2024-09-08T05:13:49.586669Z"
    }
   },
   "id": "7e9329f81cc64d2f",
   "execution_count": 106
  },
  {
   "cell_type": "markdown",
   "source": [
    "## 组合数组"
   ],
   "metadata": {
    "collapsed": false
   },
   "id": "1485eb4953dd3b0a"
  },
  {
   "cell_type": "markdown",
   "source": [
    "### hstack() vstack() 函数\n",
    "> hstack() 水平(横向)堆叠数组\n",
    "> vstack() 垂直(纵向)堆叠数组\n",
    ">\n",
    "> 注意，它们接受的参数应当是一个元祖，且元祖中的数组必须具有相同的形状"
   ],
   "metadata": {
    "collapsed": false
   },
   "id": "f06aaa4838ed3048"
  },
  {
   "cell_type": "code",
   "outputs": [],
   "source": [
    "a = np.array([\n",
    "    [1, 2],\n",
    "    [3, 4]\n",
    "])\n",
    "\n",
    "b = np.array([\n",
    "    [5, 6],\n",
    "    [7, 8]\n",
    "])"
   ],
   "metadata": {
    "collapsed": false,
    "ExecuteTime": {
     "end_time": "2024-09-08T05:20:08.095112Z",
     "start_time": "2024-09-08T05:20:08.092132Z"
    }
   },
   "id": "9d27ad097402f759",
   "execution_count": 111
  },
  {
   "cell_type": "code",
   "outputs": [
    {
     "data": {
      "text/plain": "array([[1, 2, 5, 6],\n       [3, 4, 7, 8]])"
     },
     "execution_count": 113,
     "metadata": {},
     "output_type": "execute_result"
    }
   ],
   "source": [
    "np.hstack((a, b))"
   ],
   "metadata": {
    "collapsed": false,
    "ExecuteTime": {
     "end_time": "2024-09-08T05:20:12.048052Z",
     "start_time": "2024-09-08T05:20:12.044997Z"
    }
   },
   "id": "a5751f9e736ef516",
   "execution_count": 113
  },
  {
   "cell_type": "code",
   "outputs": [
    {
     "data": {
      "text/plain": "array([[5, 6],\n       [7, 8],\n       [1, 2],\n       [3, 4]])"
     },
     "execution_count": 114,
     "metadata": {},
     "output_type": "execute_result"
    }
   ],
   "source": [
    "np.vstack((b, a))"
   ],
   "metadata": {
    "collapsed": false,
    "ExecuteTime": {
     "end_time": "2024-09-08T05:20:20.873316Z",
     "start_time": "2024-09-08T05:20:20.869731Z"
    }
   },
   "id": "8f3a55ea4b3bf88d",
   "execution_count": 114
  },
  {
   "cell_type": "markdown",
   "source": [
    "### concatenate() 函数\n",
    "> 沿指定轴连接相同形状的两个或多个数组\n",
    "> \n",
    "> numpy.concatenate((a1, a2, ...), axis=0)"
   ],
   "metadata": {
    "collapsed": false
   },
   "id": "cc3ac75c637b25f1"
  },
  {
   "cell_type": "code",
   "outputs": [],
   "source": [
    "a = np.array([\n",
    "    [1, 2],\n",
    "    [3, 4]\n",
    "])\n",
    "\n",
    "b = np.array([\n",
    "    [5, 6],\n",
    "    [7, 8]\n",
    "])"
   ],
   "metadata": {
    "collapsed": false
   },
   "id": "f4d2771d65b033c"
  },
  {
   "cell_type": "code",
   "outputs": [
    {
     "data": {
      "text/plain": "array([[1, 2, 5, 6],\n       [3, 4, 7, 8]])"
     },
     "execution_count": 115,
     "metadata": {},
     "output_type": "execute_result"
    }
   ],
   "source": [
    "np.concatenate((a, b), axis=1)"
   ],
   "metadata": {
    "collapsed": false,
    "ExecuteTime": {
     "end_time": "2024-09-08T08:21:29.573299Z",
     "start_time": "2024-09-08T08:21:29.568829Z"
    }
   },
   "id": "dc412fa6095446e1",
   "execution_count": 115
  },
  {
   "cell_type": "code",
   "outputs": [
    {
     "data": {
      "text/plain": "array([[1, 2],\n       [3, 4],\n       [5, 6],\n       [7, 8]])"
     },
     "execution_count": 116,
     "metadata": {},
     "output_type": "execute_result"
    }
   ],
   "source": [
    "np.concatenate((a, b), axis=0)"
   ],
   "metadata": {
    "collapsed": false,
    "ExecuteTime": {
     "end_time": "2024-09-08T08:21:31.383726Z",
     "start_time": "2024-09-08T08:21:31.378683Z"
    }
   },
   "id": "f29b9553da67e3d0",
   "execution_count": 116
  },
  {
   "cell_type": "code",
   "outputs": [
    {
     "data": {
      "text/plain": "array([1, 2, 3, 4, 5, 6, 7, 8])"
     },
     "execution_count": 117,
     "metadata": {},
     "output_type": "execute_result"
    }
   ],
   "source": [
    "np.concatenate((a, b), axis=None)"
   ],
   "metadata": {
    "collapsed": false,
    "ExecuteTime": {
     "end_time": "2024-09-08T08:21:35.018153Z",
     "start_time": "2024-09-08T08:21:35.013445Z"
    }
   },
   "id": "523b8fba136cd6f6",
   "execution_count": 117
  }
 ],
 "metadata": {
  "kernelspec": {
   "display_name": "Python 3 (ipykernel)",
   "language": "python",
   "name": "python3"
  },
  "language_info": {
   "codemirror_mode": {
    "name": "ipython",
    "version": 3
   },
   "file_extension": ".py",
   "mimetype": "text/x-python",
   "name": "python",
   "nbconvert_exporter": "python",
   "pygments_lexer": "ipython3",
   "version": "3.9.6"
  }
 },
 "nbformat": 4,
 "nbformat_minor": 5
}
